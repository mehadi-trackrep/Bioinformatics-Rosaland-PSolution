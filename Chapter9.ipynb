{
 "cells": [
  {
   "cell_type": "markdown",
   "metadata": {},
   "source": [
    "### BA9A\tConstruct a Trie from a Collection of Patterns"
   ]
  },
  {
   "cell_type": "code",
   "execution_count": 18,
   "metadata": {
    "collapsed": false
   },
   "outputs": [
    {
     "name": "stdout",
     "output_type": "stream",
     "text": [
      "[1, {'A': [2, {'T': [3, {'A': [4, {'G': [5, {'A': [6, {}]}]}], 'C': [7, {}]}]}], 'G': [8, {'A': [9, {'T': [10, {}]}]}]}]\n"
     ]
    }
   ],
   "source": [
    "#!/usr/bin/python\n",
    "class Trie:\n",
    "    \n",
    "    def __init__(self):\n",
    "        self.counter = count(start=1)\n",
    "        self.root = [next(self.counter),{}]\n",
    "\n",
    "    def insert(self, sequence):\n",
    "        node = self.root\n",
    "        for ch in sequence:\n",
    "            if ch not in node[1]:\n",
    "                node[1][ch] = [next(self.counter),{}]\n",
    "            node = node[1][ch]\n",
    "\n",
    "\n",
    "def trie(sequences):\n",
    "    myTrie = Trie()\n",
    "    for sequence in sequences:\n",
    "        myTrie.insert(sequence)\n",
    "    return myTrie.root\n",
    "\n",
    "raw_data = [\"ATAGA\",\"ATC\",\"GAT\"]\n",
    "seqs = [item.strip() for item in raw_data]\n",
    "# print(Format(trie(seqs)))\n",
    "print(trie(seqs))"
   ]
  },
  {
   "cell_type": "markdown",
   "metadata": {},
   "source": [
    "### BA9I\tConstruct the Burrows-Wheeler Transform of a String"
   ]
  },
  {
   "cell_type": "code",
   "execution_count": 7,
   "metadata": {
    "collapsed": false
   },
   "outputs": [
    {
     "name": "stdout",
     "output_type": "stream",
     "text": [
      "ACTGGCT$TGCGGC\n"
     ]
    }
   ],
   "source": [
    "def read_data(file_name):\n",
    "    with open(file_name, \"r\") as file:\n",
    "        data = file.readline().strip()\n",
    "    return data\n",
    "\n",
    "def circular_str(start, length, string):\n",
    "    if start >= len(string):\n",
    "        return\n",
    "    if start + length <= len(string):\n",
    "        return string[start: start + length]\n",
    "    else:\n",
    "        answer = string[start:]\n",
    "        answer += string[:(start + length) % (len(string))]\n",
    "        return answer\n",
    "\n",
    "def bwt(genome):\n",
    "    length = len(genome)\n",
    "    table = []\n",
    "    for i in range(length-1, -1, -1):\n",
    "        table.append(circular_str(i, length, genome))\n",
    "\n",
    "    table.sort()\n",
    "    return \"\".join(table[i][-1] for i in range(len(table)))\n",
    "\n",
    "if __name__ == \"__main__\":\n",
    "    data = read_data(\"in.txt\")\n",
    "#     data = \"GCGTGCCTGGTCA$\"\n",
    "    print (bwt(data))"
   ]
  },
  {
   "cell_type": "markdown",
   "metadata": {},
   "source": [
    "### BA9J\tReconstruct a String from its Burrows-Wheeler Transform"
   ]
  },
  {
   "cell_type": "code",
   "execution_count": 11,
   "metadata": {
    "collapsed": false
   },
   "outputs": [
    {
     "name": "stdout",
     "output_type": "stream",
     "text": [
      "TACATCACGT$\n"
     ]
    }
   ],
   "source": [
    "\n",
    "def read_data(file_name):\n",
    "    with open(file_name, \"r\") as file:\n",
    "        data = file.readline().strip()\n",
    "    return data\n",
    "\n",
    "def decompression(bwt):\n",
    "    last = bwt\n",
    "    first = sorted(bwt)\n",
    "    length = len(bwt)\n",
    "    first_ind = []\n",
    "    last_ind = []\n",
    "    dict_for_ind_1 = {}\n",
    "    dict_for_ind_2 = {}\n",
    "    for i in range(length):\n",
    "        ### indexing first column\n",
    "        if first[i] in dict_for_ind_1:\n",
    "            dict_for_ind_1[first[i]] += 1\n",
    "        else:\n",
    "            dict_for_ind_1[first[i]] = 1\n",
    "\n",
    "        first_ind.append((first[i], dict_for_ind_1[first[i]]))\n",
    "        ### indexing last column\n",
    "        if last[i] in dict_for_ind_2:\n",
    "            dict_for_ind_2[last[i]] += 1\n",
    "        else:\n",
    "            dict_for_ind_2[last[i]] = 1\n",
    "\n",
    "        last_ind.append((last[i],dict_for_ind_2[last[i]]))\n",
    "\n",
    "    answer = [first[0]]\n",
    "    index = 0\n",
    "    for i in range(length-1):\n",
    "        answer.append(last[index])\n",
    "        index = first_ind.index((answer[-1], last_ind[index][1]))\n",
    "\n",
    "    return \"\".join(answer[::-1])\n",
    "\n",
    "if __name__ == \"__main__\":\n",
    "    data = read_data(\"in.txt\")\n",
    "#     data = \"TTCCTAACG$A\"\n",
    "    print (decompression(data))"
   ]
  },
  {
   "cell_type": "markdown",
   "metadata": {},
   "source": [
    "### BA9K\tGenerate the Last-to-First Mapping of a String"
   ]
  },
  {
   "cell_type": "code",
   "execution_count": 26,
   "metadata": {
    "collapsed": false
   },
   "outputs": [
    {
     "name": "stdout",
     "output_type": "stream",
     "text": [
      "1\n"
     ]
    }
   ],
   "source": [
    "inp = \"T$GACCA\"\n",
    "pos = 3\n",
    "l = len(inp)\n",
    "ch = inp[pos]\n",
    "inp = sorted(inp)\n",
    "for i in range(0,l):\n",
    "    if inp[i] == ch:\n",
    "        print(i)\n",
    "        break"
   ]
  },
  {
   "cell_type": "markdown",
   "metadata": {},
   "source": [
    "### BA9M\tImplement BetterBWMatching"
   ]
  },
  {
   "cell_type": "code",
   "execution_count": 18,
   "metadata": {
    "collapsed": false
   },
   "outputs": [
    {
     "name": "stdout",
     "output_type": "stream",
     "text": [
      "1 2 1 "
     ]
    }
   ],
   "source": [
    "def read_data(file_name):\n",
    "    with open(file_name, \"r\") as file:\n",
    "        last_col = file.readline().rstrip()\n",
    "        patterns = file.readline().rstrip().split()\n",
    "\n",
    "    return last_col, patterns\n",
    "\n",
    "def better_BWT_matching(last_col, pattern):\n",
    "    top = 0\n",
    "    bottom = len(last_col) - 1\n",
    "    first_col = ''.join(sorted(last_col))\n",
    "    while top <= bottom:\n",
    "        if pattern:\n",
    "            symbol = pattern[-1]\n",
    "            pattern = pattern[:-1]\n",
    "            if symbol in last_col[top:bottom+1]:\n",
    "                top = first_col.find(symbol) + last_col.count(symbol, 0, top)\n",
    "                bottom = first_col.find(symbol) + last_col.count(symbol, 0, bottom + 1) - 1\n",
    "            else:\n",
    "                return 0\n",
    "        else:\n",
    "            return bottom - top + 1\n",
    "\n",
    "\n",
    "if __name__ == \"__main__\":\n",
    "#     last_col, patterns = read_data(\"in.txt\")\n",
    "    last_col = \"GGCGCCGC$TAGTCACACACGCCGTA\"\n",
    "    patterns = [\"ACC\", \"CCG\", \"CAG\"]\n",
    "    for pattern in patterns:\n",
    "        print (better_BWT_matching(last_col, pattern),end=\" \")"
   ]
  },
  {
   "cell_type": "markdown",
   "metadata": {},
   "source": [
    "### BA9N\tFind All Occurrences of a Collection of Patterns in a String"
   ]
  },
  {
   "cell_type": "code",
   "execution_count": 20,
   "metadata": {
    "collapsed": false
   },
   "outputs": [
    {
     "name": "stdout",
     "output_type": "stream",
     "text": [
      "1 4 11 15 "
     ]
    }
   ],
   "source": [
    "\"\"\"CHECK: MD. MEHADI HASAN :P\"\"\"\n",
    "\n",
    "from collections import defaultdict\n",
    "\n",
    "def find_all_occur(text, patterns):\n",
    "    oc_pos = defaultdict(list)\n",
    "    pat_len = len(patterns[0])\n",
    "    text_len = len(text)\n",
    "    start = 0\n",
    "    while start + pat_len <= text_len:\n",
    "        oc_pos[text[start:start+pat_len]].append(start)\n",
    "        start += 1\n",
    "\n",
    "    positions = []\n",
    "    for pattern in patterns:\n",
    "        positions += oc_pos[pattern]\n",
    "\n",
    "    return sorted(positions)\n",
    "\n",
    "if __name__ == \"__main__\":\n",
    "    text = \"AATCGGGTTCAATCGGGGT\"\n",
    "    patterns = [\"ATCG\",\"GGGT\"]\n",
    "    posittions = find_all_occur(text, patterns)\n",
    "    for pos in posittions:\n",
    "        print (pos, end=\" \")"
   ]
  }
 ],
 "metadata": {
  "kernelspec": {
   "display_name": "Python 3",
   "language": "python",
   "name": "python3"
  },
  "language_info": {
   "codemirror_mode": {
    "name": "ipython",
    "version": 3
   },
   "file_extension": ".py",
   "mimetype": "text/x-python",
   "name": "python",
   "nbconvert_exporter": "python",
   "pygments_lexer": "ipython3",
   "version": "3.6.0"
  }
 },
 "nbformat": 4,
 "nbformat_minor": 2
}
