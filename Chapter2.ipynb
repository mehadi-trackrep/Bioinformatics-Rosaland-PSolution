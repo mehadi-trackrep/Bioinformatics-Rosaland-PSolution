{
 "cells": [
  {
   "cell_type": "markdown",
   "metadata": {},
   "source": [
    "## Md. Mehadi Hasan (2014331049)"
   ]
  },
  {
   "cell_type": "code",
   "execution_count": 1,
   "metadata": {
    "collapsed": true
   },
   "outputs": [],
   "source": [
    "### import all necessaries libraries..\n",
    "import itertools"
   ]
  },
  {
   "cell_type": "markdown",
   "metadata": {},
   "source": [
    "### BA2A\tImplement MotifEnumeration"
   ]
  },
  {
   "cell_type": "code",
   "execution_count": 1,
   "metadata": {
    "collapsed": false
   },
   "outputs": [
    {
     "name": "stdout",
     "output_type": "stream",
     "text": [
      "ATA ATT GTT TTT "
     ]
    }
   ],
   "source": [
    "import itertools\n",
    "\n",
    "dna = [\"ATTTGGC\", \"TGCCTTA\",\"CGGTATC\",\"GAAAATT\"]\n",
    "k = 3\n",
    "d = 1\n",
    "outputs=[]\n",
    "\n",
    "def hamming_distance(s1, s2, l):\n",
    "    cnt=0\n",
    "    for i in range(l):\n",
    "        if s1[i] != s2[i]:\n",
    "            cnt += 1\n",
    "    return cnt\n",
    "\n",
    "def checking_atmost_d_mismatches_from_all_substrings(string, pattern):\n",
    "    l = len(string)\n",
    "    k = len(pattern)\n",
    "    ck=0\n",
    "    for i in range(l-k+1):\n",
    "        p = string[i:i+k]\n",
    "        d1 = hamming_distance(p, pattern, k)\n",
    "        if d1 <= d:\n",
    "            ck = 1\n",
    "    return ck\n",
    "\n",
    "iterable = ['A', 'T', 'G', 'C']\n",
    "all_possible_patterns = {''.join(p):0 for p in itertools.product(iterable, repeat=k)}\n",
    "l = len(dna)\n",
    "\n",
    "for p in all_possible_patterns.keys():\n",
    "    ck=1\n",
    "    for i in range(l):\n",
    "        ret = checking_atmost_d_mismatches_from_all_substrings(dna[i], p)\n",
    "        if ret==0:\n",
    "            ck = 0\n",
    "    if ck == 1:\n",
    "        outputs.append(p)\n",
    "\n",
    "outputs.sort(reverse=False)\n",
    "\n",
    "for x in outputs:\n",
    "    print(x,end=\" \")"
   ]
  },
  {
   "cell_type": "markdown",
   "metadata": {},
   "source": [
    "### BA2B\tFind a Median String"
   ]
  },
  {
   "cell_type": "code",
   "execution_count": 2,
   "metadata": {
    "collapsed": false
   },
   "outputs": [
    {
     "name": "stdout",
     "output_type": "stream",
     "text": [
      "ACG\n"
     ]
    }
   ],
   "source": [
    "def hamming_distance(s1,s2):\n",
    "    sz = len(s1)\n",
    "    cnt = 0\n",
    "    for i in range(sz):\n",
    "        if (s1[i] != s2[i]):\n",
    "           cnt += 1 \n",
    "    return cnt\n",
    "\n",
    "inputs = ['AAATTGACGCAT','GACGACCACGTT','CGTCAGCGCCTG','GCTGAGCACCGG','AGTACGGGACAG']\n",
    "k = 3\n",
    "\n",
    "iterable = 'ATGC'\n",
    "all_patterns = {''.join(p) for p in itertools.product(iterable, repeat=k)}\n",
    "\n",
    "main_dis = 999999999\n",
    "\n",
    "for p in all_patterns:\n",
    "    total = 0\n",
    "    for s in inputs:\n",
    "        l = len(s)\n",
    "        min_dis = 9999999999\n",
    "        for i in range(0,l-k+1):\n",
    "            ss = s[i:i+k]\n",
    "            dis = hamming_distance(p,ss)\n",
    "            min_dis = min(min_dis,dis)\n",
    "        total += min_dis\n",
    "    if main_dis >= total:\n",
    "        main_dis = total\n",
    "        ans = p\n",
    "#         print(\"p: \",p,\" total: \",total)\n",
    "print(ans)            "
   ]
  },
  {
   "cell_type": "markdown",
   "metadata": {},
   "source": [
    "### BA2C\tFind a Profile-most Probable k-mer in a String"
   ]
  },
  {
   "cell_type": "code",
   "execution_count": 3,
   "metadata": {
    "collapsed": false
   },
   "outputs": [
    {
     "name": "stdout",
     "output_type": "stream",
     "text": [
      "CCGAG\n"
     ]
    }
   ],
   "source": [
    "inputStr = \"ACCTGTTTATTGCCTAAGTTCCGAACAAACCCAATATAGCCCGAGGGCCT\"\n",
    "\n",
    "pro_a = [0.2, 0.2, 0.3, 0.2, 0.3]\n",
    "pro_c = [0.4, 0.3, 0.1, 0.5, 0.1]\n",
    "pro_g = [0.3, 0.3, 0.5, 0.2, 0.4]\n",
    "pro_t = [0.1, 0.2, 0.1, 0.1, 0.2]\n",
    "\n",
    "possible_outputs = dict()\n",
    "\n",
    "k = 5\n",
    "strlen = len(inputStr)\n",
    "\n",
    "max_pro = 0\n",
    "\n",
    "for i in range(0,strlen):\n",
    "    total_pro = 1\n",
    "    if i+k<=strlen:\n",
    "        substr = inputStr[i:i+k]\n",
    "#         print(substr)\n",
    "        for j in range(0,k):\n",
    "            if(substr[j] == 'A'):\n",
    "                total_pro *= pro_a[j]\n",
    "            if(substr[j] == 'C'):\n",
    "                total_pro *= pro_c[j]\n",
    "            if(substr[j] == 'G'):\n",
    "                total_pro *= pro_g[j]\n",
    "            if(substr[j] == 'T'):\n",
    "                total_pro *= pro_t[j]\n",
    "#         print(total_pro)\n",
    "        possible_outputs[substr] = total_pro\n",
    "        if total_pro > max_pro:\n",
    "            max_pro = total_pro\n",
    "            \n",
    "sz = len(possible_outputs)\n",
    "for key in possible_outputs:\n",
    "    if possible_outputs[key] == max_pro:\n",
    "        print(key)"
   ]
  },
  {
   "cell_type": "markdown",
   "metadata": {},
   "source": [
    "### BA2D\tImplement GreedyMotifSearch"
   ]
  },
  {
   "cell_type": "code",
   "execution_count": 4,
   "metadata": {
    "collapsed": true
   },
   "outputs": [],
   "source": [
    "def finding_score(rows, cols, inputs):\n",
    "    score = 0\n",
    "\n",
    "    for i in range(0,cols):\n",
    "        T = 0\n",
    "        C = 0\n",
    "        G = 0\n",
    "        A = 0\n",
    "        for j in range(0,rows):\n",
    "            if(inputs[j][i] == 'T'):\n",
    "                T += 1\n",
    "            if(inputs[j][i] == 'C'):\n",
    "                C += 1\n",
    "            if(inputs[j][i] == 'G'):\n",
    "                G += 1\n",
    "            if(inputs[j][i] == 'A'):\n",
    "                A += 1\n",
    "        if(T>=C and T>=G and T>=A):\n",
    "            score += (rows-T)\n",
    "        elif(C>=T and C>=G and C>=A):\n",
    "            score += (rows-C)\n",
    "        elif(G>=C and G>=T and G>=A):\n",
    "            score += (rows-G)\n",
    "        elif(A>=C and A>=G and A>=T):\n",
    "            score += (rows-A)\n",
    "    return score"
   ]
  },
  {
   "cell_type": "code",
   "execution_count": 5,
   "metadata": {
    "collapsed": true
   },
   "outputs": [],
   "source": [
    "pro_a = list()\n",
    "pro_c = list()\n",
    "pro_g = list()\n",
    "pro_t = list()\n",
    "\n",
    "def getting_pseudocounts_profile(rows, cols, string_list):\n",
    "#     print(string_list)\n",
    "    for i in range(0,cols):\n",
    "        T = 0\n",
    "        C = 0\n",
    "        G = 0\n",
    "        A = 0\n",
    "        for j in range(0,rows):\n",
    "            if(string_list[j][i] == 'T'):\n",
    "                T += 1\n",
    "            if(string_list[j][i] == 'C'):\n",
    "                C += 1\n",
    "            if(string_list[j][i] == 'G'):\n",
    "                G += 1\n",
    "            if(string_list[j][i] == 'A'):\n",
    "                A += 1\n",
    "#     ###For Pseudocounts:\n",
    "        A += 1\n",
    "        C += 1\n",
    "        G += 1\n",
    "        T += 1\n",
    "        t = cols + 4\n",
    "        pro_a.append(A/t)\n",
    "        pro_c.append(C/t)\n",
    "        pro_g.append(G/t)\n",
    "        pro_t.append(T/t)\n",
    "\n",
    "def getting_profile(rows, cols, string_list):\n",
    "#     print(string_list)\n",
    "    for i in range(0,cols):\n",
    "        T = 0\n",
    "        C = 0\n",
    "        G = 0\n",
    "        A = 0\n",
    "        for j in range(0,rows):\n",
    "            if(string_list[j][i] == 'T'):\n",
    "                T += 1\n",
    "            if(string_list[j][i] == 'C'):\n",
    "                C += 1\n",
    "            if(string_list[j][i] == 'G'):\n",
    "                G += 1\n",
    "            if(string_list[j][i] == 'A'):\n",
    "                A += 1\n",
    "        t = cols\n",
    "        pro_a.append(A/t)\n",
    "        pro_c.append(C/t)\n",
    "        pro_g.append(G/t)\n",
    "        pro_t.append(T/t)"
   ]
  },
  {
   "cell_type": "code",
   "execution_count": 6,
   "metadata": {
    "collapsed": false
   },
   "outputs": [
    {
     "name": "stdout",
     "output_type": "stream",
     "text": [
      "CAG\n",
      "CAG\n",
      "CAA\n",
      "CAA\n",
      "CAA\n"
     ]
    }
   ],
   "source": [
    "def greedymotifsearch(inputs,t,k):\n",
    "    bestmotifs = list()\n",
    "    motifs = list()\n",
    "    \n",
    "    for s in inputs:\n",
    "        bestmotifs.append(s[0:k])\n",
    "    bestmotifs_score = finding_score(t,k,bestmotifs)\n",
    "    \n",
    "    fstr = inputs[0]\n",
    "    l = len(fstr)\n",
    "    \n",
    "    for i in range(0,l-k+1): ###iterate loop for each k-mer in 1st string\n",
    "        substr = fstr[i:i+k]\n",
    "        del motifs[:]\n",
    "        motifs.append(substr)\n",
    "        cnt = 1\n",
    "        \n",
    "        for j in range(1,t):\n",
    "            del pro_a[:]\n",
    "            del pro_c[:]\n",
    "            del pro_g[:]\n",
    "            del pro_t[:]\n",
    "            s = inputs[j]\n",
    "            getting_profile(cnt,k,motifs)\n",
    "            \n",
    "            mx_prob = 0.0\n",
    "            mostprobable_motif = s[0:k]\n",
    "            ##Getting profilemost motif from j th dna string\n",
    "            for ind in range(0,l-k+1):\n",
    "                ss = s[ind:ind+k]\n",
    "                prob = 1.0\n",
    "                for ii in range(0,k):\n",
    "                    if(ss[ii] == 'A'): prob *= pro_a[ii]\n",
    "                    if(ss[ii] == 'T'): prob *= pro_t[ii]\n",
    "                    if(ss[ii] == 'G'): prob *= pro_g[ii]\n",
    "                    if(ss[ii] == 'C'): prob *= pro_c[ii]\n",
    "                    \n",
    "                if prob > mx_prob: \n",
    "                    mx_prob = prob\n",
    "                    mostprobable_motif = ss\n",
    "            ###Adding the profilemost motif to the temporary motifs\n",
    "            motifs.append(mostprobable_motif)\n",
    "            cnt += 1\n",
    "        motifs_score = finding_score(t,k,motifs)\n",
    "        if motifs_score < bestmotifs_score:\n",
    "            del bestmotifs[:]\n",
    "            for x in motifs:\n",
    "                bestmotifs.append(x)\n",
    "            bestmotifs_score = motifs_score\n",
    "\n",
    "    return bestmotifs\n",
    "\n",
    "\n",
    "inputs = [\"GGCGTTCAGGCA\",\"AAGAATCAGTCA\",\"CAAGGAGTTCGC\",\"CACGTCAATCAC\",\"CAATAATATTCG\"]\n",
    "k = 3\n",
    "t = 5\n",
    "ansmotifs = greedymotifsearch(inputs,t,k)\n",
    "for x in ansmotifs:\n",
    "    print(x)\n"
   ]
  },
  {
   "cell_type": "markdown",
   "metadata": {},
   "source": [
    "### BA2E\tImplement GreedyMotifSearch with Pseudocounts"
   ]
  },
  {
   "cell_type": "code",
   "execution_count": 7,
   "metadata": {
    "collapsed": false
   },
   "outputs": [
    {
     "name": "stdout",
     "output_type": "stream",
     "text": [
      "TTC\n",
      "ATC\n",
      "TTC\n",
      "ATC\n",
      "TTC\n"
     ]
    }
   ],
   "source": [
    "def greedymotifsearch_with_pseudocounts(inputs,t,k):\n",
    "    bestmotifs = list()\n",
    "    motifs = list()\n",
    "    \n",
    "    for s in inputs:\n",
    "        bestmotifs.append(s[0:k])\n",
    "    bestmotifs_score = finding_score(t,k,bestmotifs)\n",
    "    \n",
    "    fstr = inputs[0]\n",
    "    l = len(fstr)\n",
    "    \n",
    "    for i in range(0,l-k+1): ###iterate loop for each k-mer in 1st string\n",
    "        substr = fstr[i:i+k]\n",
    "        del motifs[:]\n",
    "        motifs.append(substr)\n",
    "        cnt = 1\n",
    "        \n",
    "        for j in range(1,t):\n",
    "            del pro_a[:]\n",
    "            del pro_c[:]\n",
    "            del pro_g[:]\n",
    "            del pro_t[:]\n",
    "            s = inputs[j]\n",
    "            \n",
    "            getting_pseudocounts_profile(cnt,k,motifs)\n",
    "            \n",
    "            mx_prob = 0.0\n",
    "            mostprobable_motif = s[0:k]\n",
    "            ##Getting profilemost motif from j th dna string\n",
    "            for ind in range(0,l-k+1):\n",
    "                ss = s[ind:ind+k]\n",
    "                prob = 1.0\n",
    "                for ii in range(0,k):\n",
    "                    if(ss[ii] == 'A'): prob *= pro_a[ii]\n",
    "                    if(ss[ii] == 'T'): prob *= pro_t[ii]\n",
    "                    if(ss[ii] == 'G'): prob *= pro_g[ii]\n",
    "                    if(ss[ii] == 'C'): prob *= pro_c[ii]\n",
    "                    \n",
    "                if prob > mx_prob: \n",
    "                    mx_prob = prob\n",
    "                    mostprobable_motif = ss\n",
    "            ###Adding the profilemost motif to the temporary motifs\n",
    "            motifs.append(mostprobable_motif)\n",
    "            cnt += 1\n",
    "        motifs_score = finding_score(t,k,motifs)\n",
    "        if motifs_score < bestmotifs_score:\n",
    "            del bestmotifs[:]\n",
    "            for x in motifs:\n",
    "                bestmotifs.append(x)\n",
    "            bestmotifs_score = motifs_score\n",
    "\n",
    "    return bestmotifs\n",
    "\n",
    "\n",
    "inputs = [\"GGCGTTCAGGCA\",\"AAGAATCAGTCA\",\"CAAGGAGTTCGC\",\"CACGTCAATCAC\",\"CAATAATATTCG\"]\n",
    "k = 3\n",
    "t = 5\n",
    "ansmotifs = greedymotifsearch_with_pseudocounts(inputs,t,k)\n",
    "for x in ansmotifs:\n",
    "    print(x)\n"
   ]
  },
  {
   "cell_type": "markdown",
   "metadata": {},
   "source": [
    "### BA2F\tImplement RandomizedMotifSearch"
   ]
  },
  {
   "cell_type": "code",
   "execution_count": null,
   "metadata": {
    "collapsed": true
   },
   "outputs": [],
   "source": []
  },
  {
   "cell_type": "markdown",
   "metadata": {},
   "source": [
    "### BA2G\tImplement GibbsSampler"
   ]
  },
  {
   "cell_type": "code",
   "execution_count": null,
   "metadata": {
    "collapsed": true
   },
   "outputs": [],
   "source": []
  },
  {
   "cell_type": "markdown",
   "metadata": {},
   "source": [
    "### BA2H\tImplement DistanceBetweenPatternAndStrings"
   ]
  },
  {
   "cell_type": "code",
   "execution_count": 8,
   "metadata": {
    "collapsed": false
   },
   "outputs": [
    {
     "name": "stdout",
     "output_type": "stream",
     "text": [
      "5\n"
     ]
    }
   ],
   "source": [
    "dnaStrs = \"TTACCTTAAC GATATCTGTC ACGGCGTTCG CCCTAAAGAG CGTCAGAGGT\"\n",
    "pattern = \"AAA\"\n",
    "strList = dnaStrs.split(\" \")\n",
    "patternLen = len(pattern)\n",
    "\n",
    "result = 0\n",
    "min_dif = 999999999999\n",
    "\n",
    "for s in strList:\n",
    "    strlen = len(s)\n",
    "    min_dif = 999999999999\n",
    "    for i in range(0,strlen):\n",
    "        substr = s[i:i+patternLen]\n",
    "        if len(substr) == patternLen:\n",
    "            diff = 0;\n",
    "            for j,k in zip(pattern,substr):\n",
    "                if not j == k:\n",
    "                    diff +=1\n",
    "            min_dif = min(min_dif,diff)\n",
    "    result += min_dif\n",
    "    \n",
    "print(result)"
   ]
  }
 ],
 "metadata": {
  "kernelspec": {
   "display_name": "Python 3",
   "language": "python",
   "name": "python3"
  },
  "language_info": {
   "codemirror_mode": {
    "name": "ipython",
    "version": 3
   },
   "file_extension": ".py",
   "mimetype": "text/x-python",
   "name": "python",
   "nbconvert_exporter": "python",
   "pygments_lexer": "ipython3",
   "version": "3.6.0"
  }
 },
 "nbformat": 4,
 "nbformat_minor": 2
}
