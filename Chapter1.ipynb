{
 "cells": [
  {
   "cell_type": "markdown",
   "metadata": {},
   "source": [
    "# Md. Mehadi Hasan (2014331049)"
   ]
  },
  {
   "cell_type": "code",
   "execution_count": 2,
   "metadata": {
    "collapsed": true
   },
   "outputs": [],
   "source": [
    "### Libraries ---\n",
    "\n",
    "import numpy as np\n",
    "import itertools"
   ]
  },
  {
   "cell_type": "markdown",
   "metadata": {},
   "source": [
    "### BA1A\tCompute the Number of Times a Pattern Appears in a Text"
   ]
  },
  {
   "cell_type": "code",
   "execution_count": 1,
   "metadata": {
    "collapsed": false
   },
   "outputs": [
    {
     "name": "stdout",
     "output_type": "stream",
     "text": [
      "GCGCG\n",
      "GCG\n",
      "2\n"
     ]
    }
   ],
   "source": [
    "def count_occurrence_of_pattern(text, pattern):\n",
    "\n",
    "    count = 0\n",
    "    l = len(text)\n",
    "    p = len(pattern)\n",
    "    \n",
    "    for i in range(l-p+1):\n",
    "        if(text[i:i+p] == pattern):\n",
    "            count += 1\n",
    "    \n",
    "    return count\n",
    "\n",
    "text = input()\n",
    "pattern = input()\n",
    "\n",
    "print(count_occurrence_of_pattern(text, pattern))"
   ]
  },
  {
   "cell_type": "markdown",
   "metadata": {},
   "source": [
    "### BA1B\tFind the Most Frequent Words in a String"
   ]
  },
  {
   "cell_type": "code",
   "execution_count": 5,
   "metadata": {
    "collapsed": false
   },
   "outputs": [
    {
     "name": "stdout",
     "output_type": "stream",
     "text": [
      "ACGTTGCATGTCGCATGATGCATGAGAGCT\n",
      "4\n",
      "GCAT CATG "
     ]
    }
   ],
   "source": [
    "def finding_most_frequent_kmer(text, k):\n",
    "\n",
    "    patterns_with_occurences = dict()\n",
    "    \n",
    "    l = len(text)\n",
    "    max_occurence = 0\n",
    "    \n",
    "    for i in range(l-k+1):\n",
    "        p = text[i:i+k] ## p means pattern\n",
    "        if p in patterns_with_occurences.keys():\n",
    "            patterns_with_occurences[p] += 1\n",
    "        else:\n",
    "            patterns_with_occurences[p] = 1\n",
    "        if patterns_with_occurences[p] > max_occurence:\n",
    "            max_occurence = patterns_with_occurences[p]\n",
    "    \n",
    "    return patterns_with_occurences, max_occurence ## We can return more variables\n",
    "    \n",
    "text = input()\n",
    "k = int(input())\n",
    "\n",
    "patterns, max_occurrence = finding_most_frequent_kmer(text, k)\n",
    "\n",
    "for k, v in patterns.items():\n",
    "    if v == max_occurrence:\n",
    "        print(k, end=' ')\n"
   ]
  },
  {
   "cell_type": "markdown",
   "metadata": {},
   "source": [
    "### BA1C\tFind the Reverse Complement of a String"
   ]
  },
  {
   "cell_type": "code",
   "execution_count": 7,
   "metadata": {
    "collapsed": false
   },
   "outputs": [
    {
     "name": "stdout",
     "output_type": "stream",
     "text": [
      "AAAACCCGGT\n",
      "ACCGGGTTTT\n"
     ]
    }
   ],
   "source": [
    "def reverse_complement(dna):\n",
    "    \n",
    "    rev_str = dna[::-1]\n",
    "    complement_rev = ''\n",
    "    l = len(dna)\n",
    "    \n",
    "    for i in range(l):\n",
    "        if(rev_str[i]=='A'):\n",
    "            complement_rev += 'T'\n",
    "        elif(rev_str[i]=='T'):\n",
    "            complement_rev += 'A'\n",
    "        elif(rev_str[i]=='C'):\n",
    "            complement_rev += 'G'\n",
    "        elif(rev_str[i]=='G'):\n",
    "            complement_rev += 'C'\n",
    "    \n",
    "    return complement_rev\n",
    "\n",
    "dna = input()\n",
    "print(reverse_complement(dna))"
   ]
  },
  {
   "cell_type": "markdown",
   "metadata": {},
   "source": [
    "### BA1D\tFind All Occurrences of a Pattern in a String"
   ]
  },
  {
   "cell_type": "code",
   "execution_count": 11,
   "metadata": {
    "collapsed": false
   },
   "outputs": [
    {
     "name": "stdout",
     "output_type": "stream",
     "text": [
      "ATAT\n",
      "GATATATGCATATACTT\n",
      "1 3 9 "
     ]
    }
   ],
   "source": [
    "def finding_positions_of_kmer(pattern, string):\n",
    "    \n",
    "    starting_positions = list()\n",
    "    \n",
    "    l = len(string)\n",
    "    k = len(pattern)\n",
    "    \n",
    "    for i in range(l-k+1):\n",
    "        p = string[i:i+k] ## p means pattern\n",
    "        if p == pattern:\n",
    "            starting_positions.append(i)\n",
    "    return starting_positions\n",
    "        \n",
    "pattern = input()\n",
    "string = input()\n",
    "\n",
    "starting_positions = finding_positions_of_kmer(pattern, string)\n",
    "\n",
    "for pos in starting_positions:\n",
    "    print(pos, end=' ')\n"
   ]
  },
  {
   "cell_type": "markdown",
   "metadata": {},
   "source": [
    "### BA1E\tFind Patterns Forming Clumps in a String"
   ]
  },
  {
   "cell_type": "code",
   "execution_count": 14,
   "metadata": {
    "collapsed": false
   },
   "outputs": [
    {
     "name": "stdout",
     "output_type": "stream",
     "text": [
      "CGGACTCGACAGATGTGAAGAAATGTGAAGACTGAGTGAAGAGAAGAGGAAACACGACACGACATTGCGACATAATGTACGAATGTAATGTGCCTATGGC\n",
      "5\n",
      "75\n",
      "4\n",
      "CGACA GAAGA AATGT "
     ]
    }
   ],
   "source": [
    "def finding_patterns_forming_clumps(string, k, L, t):\n",
    "    \n",
    "    patterns_forming_clumps = []\n",
    "    l = len(string)\n",
    "\n",
    "    for i in range(l-L+1): ## tracking clumps of L length\n",
    "        \n",
    "        s = string[i: i+L]\n",
    "        \n",
    "        for j in range(L-k+1): ## finding occurrences of all k-mers in s of the L length \n",
    "            pattern = s[j: j+k]\n",
    "            if count_occurrence_of_pattern(s, pattern) >= t and pattern not in patterns_forming_clumps:\n",
    "                patterns_forming_clumps.append(pattern)\n",
    "\n",
    "    return patterns_forming_clumps\n",
    "\n",
    "string = input()\n",
    "k = int(input())\n",
    "L = int(input())\n",
    "t = int(input())\n",
    "\n",
    "patterns_forming_clumps = finding_patterns_forming_clumps(string, k, L, t)\n",
    "\n",
    "for p in patterns_forming_clumps:\n",
    "    print(p, end=' ')\n"
   ]
  },
  {
   "cell_type": "markdown",
   "metadata": {},
   "source": [
    "### BA1F\tFind a Position in a Genome Minimizing the Skew"
   ]
  },
  {
   "cell_type": "code",
   "execution_count": 17,
   "metadata": {
    "collapsed": false
   },
   "outputs": [
    {
     "name": "stdout",
     "output_type": "stream",
     "text": [
      "CCTATCGGTGGATTAGCATGTCCCTGTACGTTTCGCCGCGAACTAGTTCACACGGCTTGATGGCAAATGGTTTTTCCGGCGACCGTAATCGTCCACCGAG\n",
      "53 97 "
     ]
    }
   ],
   "source": [
    "def finding_values_of_a_skew(dna):\n",
    "    \n",
    "    min_values = []\n",
    "    min_val = 9999999\n",
    "    count = 0\n",
    "    \n",
    "    for ch in dna:\n",
    "        if ch == 'C':\n",
    "            count -= 1\n",
    "        elif ch == 'G':\n",
    "            count += 1\n",
    "        if count < min_val:\n",
    "            min_val = count\n",
    "        min_values.append(count)\n",
    "        \n",
    "    return min_values, min_val\n",
    "\n",
    "dna = input()\n",
    "min_values, min_val = finding_values_of_a_skew(dna)\n",
    "\n",
    "for i in range(len(dna)):\n",
    "    if min_values[i] == min_val:\n",
    "        print(i+1, end=' ')"
   ]
  },
  {
   "cell_type": "markdown",
   "metadata": {},
   "source": [
    "### BA1G\tCompute the Hamming Distance Between Two Strings"
   ]
  },
  {
   "cell_type": "code",
   "execution_count": 18,
   "metadata": {
    "collapsed": false
   },
   "outputs": [
    {
     "name": "stdout",
     "output_type": "stream",
     "text": [
      "GGGCCGTTGGT\n",
      "GGACCGTTGAC\n",
      "3\n"
     ]
    }
   ],
   "source": [
    "def hamming_distance(s1,s2):\n",
    "    sz = len(s1)\n",
    "    cnt = 0\n",
    "    for i in range(sz):\n",
    "        if (s1[i] != s2[i]):\n",
    "           cnt += 1 \n",
    "    return cnt\n",
    "\n",
    "s1 = input()\n",
    "s2 = input()\n",
    "\n",
    "distance = hamming_distance(s1,s2)    \n",
    "\n",
    "print(distance)"
   ]
  },
  {
   "cell_type": "markdown",
   "metadata": {},
   "source": [
    "### BA1H\tFind All Approximate Occurrences of a Pattern in a String"
   ]
  },
  {
   "cell_type": "code",
   "execution_count": 19,
   "metadata": {
    "collapsed": false
   },
   "outputs": [
    {
     "name": "stdout",
     "output_type": "stream",
     "text": [
      "ATTCTGGA\n",
      "CGCCCGAATCCAGAACGCATTCCCATATTTCGGGACCACTGGCCTCCACGGTACGGACGTCAATCAAATGCCTAGCGGCTTGTGGTTTCTCCTACGCTCC\n",
      "3\n",
      "6 7 26 27 78 "
     ]
    }
   ],
   "source": [
    "pattern = input()\n",
    "text = input()\n",
    "d = int(input())\n",
    "\n",
    "def finding_positions_of_all_patterns_with_d_mismatch(pattern, text, d):\n",
    "    \n",
    "    text_len = len(text)\n",
    "    pattern_len = len(pattern)\n",
    "    \n",
    "    starting_positions = []\n",
    "    \n",
    "    for i in range(text_len-pattern_len):\n",
    "        ck_str = text[i:i+pattern_len]\n",
    "        \n",
    "        if hamming_distance(pattern, ck_str) <= d:\n",
    "            starting_positions.append(i)\n",
    "            \n",
    "    return starting_positions\n",
    "\n",
    "positions = finding_positions_of_all_patterns_with_d_mismatch(pattern,text,d)\n",
    "\n",
    "for i in positions:\n",
    "    print (i, end=' ')\n"
   ]
  },
  {
   "cell_type": "markdown",
   "metadata": {},
   "source": [
    "### BA1I\tFind the Most Frequent Words with Mismatches in a String"
   ]
  },
  {
   "cell_type": "code",
   "execution_count": 24,
   "metadata": {
    "collapsed": false
   },
   "outputs": [
    {
     "name": "stdout",
     "output_type": "stream",
     "text": [
      "ACGTTGCATGTCGCATGATGCATGAGAGCT\n",
      "4\n",
      "1\n",
      "ATGT ATGC GATG "
     ]
    }
   ],
   "source": [
    "def finding_most_frequent_words_with_mismatches(text,k,d):\n",
    "    iterable = ['A', 'T', 'G', 'C']\n",
    "    all_possible_patterns = {p:0 for p in itertools.product(iterable, repeat=k)}\n",
    "    \n",
    "    max_occur = 0\n",
    "\n",
    "    for p in all_possible_patterns.keys():\n",
    "        all_possible_patterns[p] = len (finding_positions_of_all_patterns_with_d_mismatch(p,text,d))\n",
    "        \n",
    "        if all_possible_patterns[p] > max_occur:\n",
    "            max_occur = all_possible_patterns[p]\n",
    "            \n",
    "    output = []\n",
    "    for p in all_possible_patterns.keys():\n",
    "        if all_possible_patterns[p] == max_occur:\n",
    "            output.append(''.join(p))\n",
    "    return output\n",
    "    \n",
    "text = input()\n",
    "k = int(input())\n",
    "d = int(input())\n",
    "\n",
    "ans = finding_most_frequent_words_with_mismatches(text, k, d)\n",
    "\n",
    "for val in ans:\n",
    "    print (val, end=' ')\n"
   ]
  },
  {
   "cell_type": "markdown",
   "metadata": {},
   "source": [
    "### BA1J\tFind Frequent Words with Mismatches and Reverse Complements"
   ]
  },
  {
   "cell_type": "code",
   "execution_count": 25,
   "metadata": {
    "collapsed": false
   },
   "outputs": [
    {
     "name": "stdout",
     "output_type": "stream",
     "text": [
      "ACGTTGCATGTCGCATGATGCATGAGAGCT\n",
      "4\n",
      "1\n",
      "ATGT ACAT "
     ]
    }
   ],
   "source": [
    "def finding_most_frequent_words_with_mismatches_and_reverse_complements(text,k,d):\n",
    "    \n",
    "    iterable = ['A', 'T', 'G', 'C']\n",
    "    all_possible_patterns = {p:0 for p in itertools.product(iterable, repeat=k)}\n",
    "    \n",
    "    max_occur = 0\n",
    "\n",
    "    for p in all_possible_patterns.keys():\n",
    "        all_possible_patterns[p] = len (finding_positions_of_all_patterns_with_d_mismatch(p,text,d))\n",
    "        all_possible_patterns[p] += len (finding_positions_of_all_patterns_with_d_mismatch(reverse_complement(p),text,d))\n",
    "        \n",
    "        if all_possible_patterns[p] > max_occur:\n",
    "            max_occur = all_possible_patterns[p]\n",
    "            \n",
    "    output = []\n",
    "    for p in all_possible_patterns.keys():\n",
    "        if all_possible_patterns[p] == max_occur:\n",
    "            output.append(''.join(p))\n",
    "    return output\n",
    "    \n",
    "text = input()\n",
    "k = int(input())\n",
    "d = int(input())\n",
    "\n",
    "ans = finding_most_frequent_words_with_mismatches_and_reverse_complements(text, k, d)\n",
    "\n",
    "for val in ans:\n",
    "    print (val, end=' ')\n"
   ]
  },
  {
   "cell_type": "markdown",
   "metadata": {},
   "source": [
    "### BA1K\tGenerate the Frequency Array of a String"
   ]
  },
  {
   "cell_type": "code",
   "execution_count": 32,
   "metadata": {
    "collapsed": false
   },
   "outputs": [
    {
     "name": "stdout",
     "output_type": "stream",
     "text": [
      "ACGCGGCTCTGAAA\n",
      "2\n",
      "2 0 0 1 0 0 1 1 1 0 1 2 0 2 2 0 "
     ]
    }
   ],
   "source": [
    "def frequency_array_of_all_kmers(dna, k):\n",
    "    iterable = ['A', 'T', 'G', 'C']\n",
    "    all_possible_patterns = {''.join(p): 0 for p in itertools.product(iterable, repeat=k)}\n",
    "    l = len(dna)\n",
    "    for i in range(l-k+1):\n",
    "        p = dna[i: i+k]\n",
    "        all_possible_patterns[p] += 1\n",
    "        \n",
    "    return all_possible_patterns\n",
    "\n",
    "dna = input()\n",
    "k = int(input())\n",
    "\n",
    "freq_ara = frequency_array_of_all_kmers(dna,k)\n",
    "\n",
    "for k,v in freq_ara.items():\n",
    "    print (v, end=' ')\n",
    "    "
   ]
  },
  {
   "cell_type": "markdown",
   "metadata": {},
   "source": [
    "### BA1L\tImplement PatternToNumber"
   ]
  },
  {
   "cell_type": "code",
   "execution_count": 33,
   "metadata": {
    "collapsed": false
   },
   "outputs": [
    {
     "name": "stdout",
     "output_type": "stream",
     "text": [
      "AGT\n",
      "11\n"
     ]
    }
   ],
   "source": [
    "def pattern_to_iteration_number(pattern):\n",
    "    str_len = len(pattern)\n",
    "    iterable = ['A', 'C', 'G', 'T']\n",
    "    all_possible_patterns = {p: it for it,p in enumerate(itertools.product(iterable, repeat=str_len))}\n",
    "#     print(all_possible_patterns)\n",
    "    key = tuple(pattern)\n",
    "    return all_possible_patterns[key]\n",
    "\n",
    "pattern = input()\n",
    "print(pattern_to_iteration_number(pattern))"
   ]
  },
  {
   "cell_type": "markdown",
   "metadata": {},
   "source": [
    "### BA1M\tImplement NumberToPattern"
   ]
  },
  {
   "cell_type": "code",
   "execution_count": 34,
   "metadata": {
    "collapsed": false
   },
   "outputs": [
    {
     "name": "stdout",
     "output_type": "stream",
     "text": [
      "45\n",
      "4\n",
      "AGTC\n"
     ]
    }
   ],
   "source": [
    "\n",
    "def iteration_number_to_pattern(iter_val, k):\n",
    "    iterable = ['A', 'C', 'G', 'T']\n",
    "    all_possible_patterns = {p: it for it,p in enumerate(itertools.product(iterable, repeat=k))}\n",
    "    for key in all_possible_patterns:\n",
    "        if all_possible_patterns[key] == iter_val:\n",
    "            return ''.join(key)\n",
    "\n",
    "iter_val = int(input())\n",
    "k = int(input())\n",
    "\n",
    "print(iteration_number_to_pattern(iter_val, k))"
   ]
  },
  {
   "cell_type": "markdown",
   "metadata": {},
   "source": [
    "### BA1N\tGenerate the d-Neighborhood of a String"
   ]
  },
  {
   "cell_type": "code",
   "execution_count": 41,
   "metadata": {
    "collapsed": false
   },
   "outputs": [
    {
     "name": "stdout",
     "output_type": "stream",
     "text": [
      "ACG\n",
      "1\n",
      "CCG\n",
      "TCG\n",
      "GCG\n",
      "ACC\n",
      "ACT\n",
      "ACG\n",
      "ACA\n",
      "ATG\n",
      "AGG\n",
      "AAG\n"
     ]
    }
   ],
   "source": [
    "def finding_d_neighbours(string, distance):\n",
    "#     string = list(string)\n",
    "    str_len = len(string)\n",
    "    output = []\n",
    "    \n",
    "    x = ['C', 'T', 'G', 'A']\n",
    "    all_possible_patterns = {''.join(p): 0 for p in itertools.product(x, repeat=str_len)}\n",
    "    \n",
    "    for p in all_possible_patterns.keys():\n",
    "        if hamming_distance(string, p) <= distance:\n",
    "            output.append(p)\n",
    "    return output\n",
    "\n",
    "string = input()\n",
    "d = int(input())\n",
    "\n",
    "\n",
    "dNeighbour_lists = finding_d_neighbours(string,d)    \n",
    "\n",
    "for i in dNeighbour_lists:\n",
    "    print(i)"
   ]
  }
 ],
 "metadata": {
  "kernelspec": {
   "display_name": "Python 3",
   "language": "python",
   "name": "python3"
  },
  "language_info": {
   "codemirror_mode": {
    "name": "ipython",
    "version": 3
   },
   "file_extension": ".py",
   "mimetype": "text/x-python",
   "name": "python",
   "nbconvert_exporter": "python",
   "pygments_lexer": "ipython3",
   "version": "3.6.0"
  }
 },
 "nbformat": 4,
 "nbformat_minor": 2
}
