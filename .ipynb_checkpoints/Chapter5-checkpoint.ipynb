{
 "cells": [
  {
   "cell_type": "markdown",
   "metadata": {},
   "source": [
    "### BA5A\tFind the Minimum Number of Coins Needed to Make Change"
   ]
  },
  {
   "cell_type": "code",
   "execution_count": 2,
   "metadata": {
    "collapsed": false
   },
   "outputs": [
    {
     "name": "stdout",
     "output_type": "stream",
     "text": [
      "2\n"
     ]
    }
   ],
   "source": [
    "value = 40\n",
    "arr =[1,5,10,20,25,50]\n",
    "\n",
    "l = len(arr)\n",
    "##Value er cheye boro coin gula diye value ta create kora possible na\n",
    "for i in range (l):\n",
    "    if(arr[i]>value):\n",
    "        arr[i]=0\n",
    "\n",
    "arr1 = [-1 for i in range(value+1)]\n",
    "\n",
    "for i in range(l):\n",
    "    arr1[arr[i]]=1\n",
    "    \n",
    "for i in range(value+1):\n",
    "    mn=100000\n",
    "    for j in range(l):  \n",
    "        if(i>=arr[j]):\n",
    "            if(arr1[i-arr[j]]>0):\n",
    "                if(mn>arr1[i-arr[j]]+1):\n",
    "                    mn=arr1[i-arr[j]]+1\n",
    "    if(arr1[i]==-1):\n",
    "        if(mn<100000):\n",
    "            arr1[i]=mn\n",
    "    elif(mn<arr1[i]):\n",
    "        arr1[i]=mn\n",
    "print(arr1[value])   \n"
   ]
  },
  {
   "cell_type": "markdown",
   "metadata": {},
   "source": [
    "#### BA5B\tFind the Length of a Longest Path in a Manhattan-like Grid"
   ]
  },
  {
   "cell_type": "code",
   "execution_count": 3,
   "metadata": {
    "collapsed": false
   },
   "outputs": [
    {
     "name": "stdout",
     "output_type": "stream",
     "text": [
      "34\n"
     ]
    }
   ],
   "source": [
    "down = [ [1, 0, 2, 4, 3],\n",
    "         [4, 6, 5, 2, 1],\n",
    "         [4, 4, 5, 2, 1],\n",
    "         [5, 6, 8, 5, 3]]\n",
    "\n",
    "right =  [  [3, 2, 4, 0],\n",
    "            [3, 2, 4, 2],\n",
    "            [0, 7, 3, 3],\n",
    "            [3, 3, 0, 2],\n",
    "            [1, 3, 2, 2]]\n",
    "\n",
    "n=5\n",
    "m=5\n",
    "\n",
    "arr = [ [0 for i in range(n)] for j in range(m) ]\n",
    "\n",
    "for i in range(0,m):\n",
    "    for j in range(0,n):\n",
    "        if(j+i==0):\n",
    "            continue\n",
    "        elif(i==0): ## 0th row te shob 0 boshbe but ekhane  'right' array er value gula \n",
    "            arr[i][j]=right[i][j-1]\n",
    "        elif (j==0): ## 0th column a shob 0 boshbe but ekhane 'down' array er value gula \n",
    "            arr[i][j]=down[i-1][j]\n",
    "        elif(arr[i-1][j]+down[i-1][j]>arr[i][j-1]+right[i][j-1]): ## left and upper theke ashle konta beshi setai..\n",
    "            arr[i][j]=arr[i-1][j]+down[i-1][j]\n",
    "        else:\n",
    "            arr[i][j]=arr[i][j-1]+right[i][j-1]\n",
    "            \n",
    "print(arr[n-1][m-1])\n"
   ]
  }
 ],
 "metadata": {
  "kernelspec": {
   "display_name": "Python 3",
   "language": "python",
   "name": "python3"
  },
  "language_info": {
   "codemirror_mode": {
    "name": "ipython",
    "version": 3
   },
   "file_extension": ".py",
   "mimetype": "text/x-python",
   "name": "python",
   "nbconvert_exporter": "python",
   "pygments_lexer": "ipython3",
   "version": "3.6.0"
  }
 },
 "nbformat": 4,
 "nbformat_minor": 2
}
