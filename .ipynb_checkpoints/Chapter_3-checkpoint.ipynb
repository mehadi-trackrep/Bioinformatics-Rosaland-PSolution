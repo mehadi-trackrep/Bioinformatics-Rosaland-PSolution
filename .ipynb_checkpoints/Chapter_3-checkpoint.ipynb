{
 "cells": [
  {
   "cell_type": "markdown",
   "metadata": {},
   "source": [
    "# BA3A : Generate the k-mer Composition of a String"
   ]
  },
  {
   "cell_type": "code",
   "execution_count": 2,
   "metadata": {
    "collapsed": false
   },
   "outputs": [
    {
     "name": "stdout",
     "output_type": "stream",
     "text": [
      "AATCC\n",
      "ATCCA\n",
      "CAATC\n",
      "CCAAC\n",
      "TCCAA\n"
     ]
    }
   ],
   "source": [
    "s = \"CAATCCAAC\"\n",
    "k = 5\n",
    "l  = len(s)\n",
    "ans = list();\n",
    "for i in range(0,l-k+1):\n",
    "    st = s[i:i+k]\n",
    "    ans.append(st)\n",
    "ans.sort()\n",
    "for x in ans:\n",
    "    print(x)"
   ]
  },
  {
   "cell_type": "markdown",
   "metadata": {},
   "source": [
    "# BA3B : Reconstruct a String from its Genome Path"
   ]
  },
  {
   "cell_type": "code",
   "execution_count": 3,
   "metadata": {
    "collapsed": false
   },
   "outputs": [
    {
     "name": "stdout",
     "output_type": "stream",
     "text": [
      "ACCGAAGCT\n"
     ]
    }
   ],
   "source": [
    "a = [\"ACCGA\",\"CCGAA\",\"CGAAG\",\"GAAGC\",\"AAGCT\"]\n",
    "ans = a[0]\n",
    "l = len(a)\n",
    "for i in range(1,l):\n",
    "    p = len(a[i])\n",
    "    ans = ans+a[i][p-1]\n",
    "print(ans)"
   ]
  },
  {
   "cell_type": "markdown",
   "metadata": {},
   "source": [
    "# BA3C : Construct the Overlap Graph of a Collection of k-mers"
   ]
  },
  {
   "cell_type": "code",
   "execution_count": 10,
   "metadata": {
    "collapsed": false
   },
   "outputs": [
    {
     "name": "stdout",
     "output_type": "stream",
     "text": [
      "GCATG  ->  CATGC\n",
      "CATGC  ->  ATGCG\n",
      "AGGCA  ->  GGCAT\n",
      "GGCAT  ->  GCATG\n"
     ]
    }
   ],
   "source": [
    "inp = [\"ATGCG\",\"GCATG\",\"CATGC\",\"AGGCA\",\"GGCAT\"]\n",
    "l = len(inp)\n",
    "pl = len(inp[0])\n",
    "for i in range(0,l):\n",
    "    s = inp[i][1:pl]\n",
    "    for j in range(0,l):\n",
    "        ss = inp[j][0:pl-1]        \n",
    "        if s == ss:\n",
    "            print(inp[i],\" -> \",inp[j])\n",
    "            break"
   ]
  },
  {
   "cell_type": "markdown",
   "metadata": {},
   "source": [
    "# BA3D : Construct the De Bruijn Graph of a String"
   ]
  },
  {
   "cell_type": "code",
   "execution_count": 3,
   "metadata": {
    "collapsed": false
   },
   "outputs": [
    {
     "name": "stdout",
     "output_type": "stream",
     "text": [
      "AAG  ->  AGA\n",
      "AGA  ->  GAT\n",
      "ATT  ->  TTC\n",
      "CTA  ->  TAC\n",
      "CTC  ->  TCT\n",
      "GAT  ->  ATT\n",
      "TCT  ->  CTC, CTA, CTS\n",
      "TTC  ->  TCT\n"
     ]
    }
   ],
   "source": [
    "k = 4\n",
    "inp = \"AAGATTCTCTAC\"\n",
    "l = len(inp)\n",
    "dic = {}\n",
    "vis = {}\n",
    "for i in range(0,l-k+1):\n",
    "    p = inp[i:i+k]\n",
    "    key = p[0:k-1]\n",
    "    vis[key] = False\n",
    "\n",
    "for i in range(0,l-k+1):\n",
    "    p = inp[i:i+k]\n",
    "    key = p[0:k-1]\n",
    "    val = p[1:k]\n",
    "    if vis[key] == False:\n",
    "        dic[key] = val\n",
    "        vis[key] = True\n",
    "    else:\n",
    "        arr = []\n",
    "        arr.append(dic[key])\n",
    "        arr.append(val)\n",
    "        dic[key] = arr\n",
    "# dic['TCT'] = ['CTC', 'CTA', 'CTS'] ## CHECK\n",
    "for key, val in sorted(dic.items()):\n",
    "    l = len(val[0])\n",
    "    if l>1:\n",
    "        print(key, \" -> \",end=\" \")\n",
    "        l = len(val)\n",
    "        for i in range(0,l):\n",
    "            if i == 0:\n",
    "                print(val[i],end=\"\")\n",
    "            else:\n",
    "                print(\",\",val[i],end=\"\")\n",
    "        print()\n",
    "    else:\n",
    "        print(key, \" -> \", val)"
   ]
  },
  {
   "cell_type": "markdown",
   "metadata": {},
   "source": [
    "# BA3E : Construct the De Bruijn Graph of a Collection of k-mers"
   ]
  },
  {
   "cell_type": "code",
   "execution_count": 34,
   "metadata": {
    "collapsed": false
   },
   "outputs": [
    {
     "name": "stdout",
     "output_type": "stream",
     "text": [
      "AGG  ->  GGG\n",
      "CAG  ->  AGG, AGG\n",
      "GAG  ->  AGG\n",
      "GGA  ->  GAG\n",
      "GGG  ->  GGA, GGG\n"
     ]
    }
   ],
   "source": [
    "inp = [\"GAGG\",\"CAGG\",\"GGGG\",\"GGGA\",\"CAGG\",\"AGGG\",\"GGAG\"]\n",
    "inp.sort()\n",
    "l = len(inp)\n",
    "dic = {}\n",
    "vis = {}\n",
    "k = len(inp[0])\n",
    "for i in range(0,l):\n",
    "    p = inp[i]\n",
    "    key = p[0:k-1]\n",
    "    vis[key] = False\n",
    "\n",
    "for i in range(0,l):\n",
    "    p = inp[i]\n",
    "    key = p[0:k-1]\n",
    "    val = p[1:k]\n",
    "    if vis[key] == False:\n",
    "        dic[key] = val\n",
    "        vis[key] = True\n",
    "    else:\n",
    "        arr = []\n",
    "        arr.append(dic[key])\n",
    "        arr.append(val)\n",
    "        dic[key] = arr\n",
    "for key, val in sorted(dic.items()):\n",
    "    l = len(val)\n",
    "    if l != k-1:\n",
    "        print(key, \" -> \",end=\" \")\n",
    "        for i in range(0,l):\n",
    "            if i == 0:\n",
    "                print(val[i],end=\"\")\n",
    "            else:\n",
    "                print(\",\",val[i],end=\"\")\n",
    "        print()\n",
    "    else:\n",
    "        print(key, \" -> \", val)"
   ]
  }
 ],
 "metadata": {
  "kernelspec": {
   "display_name": "Python 3",
   "language": "python",
   "name": "python3"
  },
  "language_info": {
   "codemirror_mode": {
    "name": "ipython",
    "version": 3
   },
   "file_extension": ".py",
   "mimetype": "text/x-python",
   "name": "python",
   "nbconvert_exporter": "python",
   "pygments_lexer": "ipython3",
   "version": "3.6.0"
  }
 },
 "nbformat": 4,
 "nbformat_minor": 2
}
