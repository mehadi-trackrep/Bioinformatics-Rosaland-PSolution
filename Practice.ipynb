{
 "cells": [
  {
   "cell_type": "code",
   "execution_count": null,
   "metadata": {
    "collapsed": true
   },
   "outputs": [],
   "source": [
    "try:\n",
    "    ret += dic[p]\n",
    "except:\n",
    "    ret += \"\""
   ]
  },
  {
   "cell_type": "code",
   "execution_count": 6,
   "metadata": {
    "collapsed": false
   },
   "outputs": [
    {
     "name": "stdout",
     "output_type": "stream",
     "text": [
      "1\n",
      "2\n",
      "3\n",
      "4\n",
      "5\n",
      "6\n",
      "7\n",
      "8\n",
      "9\n",
      "10\n"
     ]
    }
   ],
   "source": [
    "ara = [10, 9, 8, 7, 6, 5, 4, 3, 2, 1] \n",
    "l = len(ara)\n",
    "for i in range(l-1, -1, -1):## 3 ta parameters => 1st er ta start index, 2nd ta hocce last er ag porjonto, 3rd er ta hocce increment/decrement koto kore...\n",
    "    print(ara[i])"
   ]
  },
  {
   "cell_type": "code",
   "execution_count": 4,
   "metadata": {
    "collapsed": false
   },
   "outputs": [
    {
     "name": "stdout",
     "output_type": "stream",
     "text": [
      "L\n",
      "E\n",
      "Q\n",
      "N\n",
      "LE\n",
      "EQ\n",
      "QN\n",
      "LEQ\n",
      "EQN\n"
     ]
    }
   ],
   "source": [
    "seq = \"LEQN\"\n",
    "s = seq+seq\n",
    "l = len(seq)\n",
    "for i in range(1,l):\n",
    "    for j in range(l):\n",
    "        if j+i<=l:\n",
    "            ss = s[j:j+i]\n",
    "            print(ss)"
   ]
  },
  {
   "cell_type": "code",
   "execution_count": 89,
   "metadata": {
    "collapsed": false
   },
   "outputs": [
    {
     "name": "stdout",
     "output_type": "stream",
     "text": [
      "p\n",
      "p1\n",
      "p2\n",
      "p3\n"
     ]
    }
   ],
   "source": [
    "for k in dic.keys():\n",
    "    print(k)"
   ]
  },
  {
   "cell_type": "code",
   "execution_count": 40,
   "metadata": {
    "collapsed": false
   },
   "outputs": [
    {
     "name": "stdout",
     "output_type": "stream",
     "text": [
      "[5, 7]\n"
     ]
    }
   ],
   "source": [
    "ara = []\n",
    "ara.append(5)\n",
    "ara.append(7)\n",
    "print(ara)"
   ]
  },
  {
   "cell_type": "code",
   "execution_count": 47,
   "metadata": {
    "collapsed": false
   },
   "outputs": [
    {
     "name": "stdout",
     "output_type": "stream",
     "text": [
      "2\n"
     ]
    }
   ],
   "source": [
    "l = len(ara)\n",
    "print(l)"
   ]
  },
  {
   "cell_type": "code",
   "execution_count": 48,
   "metadata": {
    "collapsed": false
   },
   "outputs": [
    {
     "name": "stdout",
     "output_type": "stream",
     "text": [
      "5\n",
      "7\n"
     ]
    }
   ],
   "source": [
    "for i in range(0,l):\n",
    "    print(ara[i])"
   ]
  },
  {
   "cell_type": "code",
   "execution_count": 51,
   "metadata": {
    "collapsed": false
   },
   "outputs": [
    {
     "name": "stdout",
     "output_type": "stream",
     "text": [
      "k,v:  p mehadi\n",
      "k,v:  p1 4\n",
      "k,v:  p2 mehadi\n",
      "k,v:  p3 4\n"
     ]
    }
   ],
   "source": [
    "for k,v in dic.items():\n",
    "    print('k,v: ',k,v)"
   ]
  },
  {
   "cell_type": "code",
   "execution_count": 56,
   "metadata": {
    "collapsed": false
   },
   "outputs": [
    {
     "name": "stdout",
     "output_type": "stream",
     "text": [
      "meh\n",
      "eha\n",
      "had\n",
      "adi\n",
      "dih\n",
      "iha\n",
      "has\n",
      "asa\n",
      "san\n",
      "anm\n",
      "nme\n",
      "meh\n"
     ]
    }
   ],
   "source": [
    "text=\"mehadihasanmeh\"\n",
    "l = len(text)\n",
    "k = 3\n",
    "for i in range(0,l-k+1):\n",
    "    s = text[i:i+k]\n",
    "    print(s)"
   ]
  },
  {
   "cell_type": "code",
   "execution_count": 71,
   "metadata": {
    "collapsed": false
   },
   "outputs": [
    {
     "name": "stdout",
     "output_type": "stream",
     "text": [
      "GCAT CATG "
     ]
    }
   ],
   "source": [
    "text = \"ACGTTGCATGTCGCATGATGCATGAGAGCT\"\n",
    "k = 4\n",
    "outputs = {}\n",
    "l = len(text)\n",
    "def sarwar(a,b):\n",
    "    mx = 0\n",
    "    for i in range(l-k+1):\n",
    "        p = text[i:i+k]\n",
    "        if p in outputs.keys(): ## V.V.I\n",
    "            outputs[p] += 1\n",
    "        else:\n",
    "            outputs[p] = 1\n",
    "        if outputs[p] > mx:\n",
    "            mx = outputs[p]\n",
    "    return mx\n",
    "mx = sarwar(5,6)\n",
    "# print(\"mx: \",mx)\n",
    "# print(outputs)\n",
    "for key,val in outputs.items():\n",
    "    if val == mx:\n",
    "        print(key, end=' ')"
   ]
  },
  {
   "cell_type": "code",
   "execution_count": 5,
   "metadata": {
    "collapsed": false
   },
   "outputs": [
    {
     "name": "stdout",
     "output_type": "stream",
     "text": [
      "idahem\n"
     ]
    }
   ],
   "source": [
    "text = \"mehadi\"\n",
    "## Reverse the string:\n",
    "print(text[::-1])"
   ]
  },
  {
   "cell_type": "code",
   "execution_count": 6,
   "metadata": {
    "collapsed": true
   },
   "outputs": [],
   "source": [
    "## if count_occurrence_of_pattern(s, pattern) >= t and pattern not in patterns_forming_clumps:"
   ]
  },
  {
   "cell_type": "code",
   "execution_count": 80,
   "metadata": {
    "collapsed": false
   },
   "outputs": [
    {
     "name": "stdout",
     "output_type": "stream",
     "text": [
      "{'AAAA': 0, 'AAAT': 0, 'AAAG': 0, 'AAAC': 0, 'AATA': 0, 'AATT': 0, 'AATG': 0, 'AATC': 0, 'AAGA': 0, 'AAGT': 0, 'AAGG': 0, 'AAGC': 0, 'AACA': 0, 'AACT': 0, 'AACG': 0, 'AACC': 0, 'ATAA': 0, 'ATAT': 0, 'ATAG': 0, 'ATAC': 0, 'ATTA': 0, 'ATTT': 0, 'ATTG': 0, 'ATTC': 0, 'ATGA': 0, 'ATGT': 0, 'ATGG': 0, 'ATGC': 0, 'ATCA': 0, 'ATCT': 0, 'ATCG': 0, 'ATCC': 0, 'AGAA': 0, 'AGAT': 0, 'AGAG': 0, 'AGAC': 0, 'AGTA': 0, 'AGTT': 0, 'AGTG': 0, 'AGTC': 0, 'AGGA': 0, 'AGGT': 0, 'AGGG': 0, 'AGGC': 0, 'AGCA': 0, 'AGCT': 0, 'AGCG': 0, 'AGCC': 0, 'ACAA': 0, 'ACAT': 0, 'ACAG': 0, 'ACAC': 0, 'ACTA': 0, 'ACTT': 0, 'ACTG': 0, 'ACTC': 0, 'ACGA': 0, 'ACGT': 0, 'ACGG': 0, 'ACGC': 0, 'ACCA': 0, 'ACCT': 0, 'ACCG': 0, 'ACCC': 0, 'TAAA': 0, 'TAAT': 0, 'TAAG': 0, 'TAAC': 0, 'TATA': 0, 'TATT': 0, 'TATG': 0, 'TATC': 0, 'TAGA': 0, 'TAGT': 0, 'TAGG': 0, 'TAGC': 0, 'TACA': 0, 'TACT': 0, 'TACG': 0, 'TACC': 0, 'TTAA': 0, 'TTAT': 0, 'TTAG': 0, 'TTAC': 0, 'TTTA': 0, 'TTTT': 0, 'TTTG': 0, 'TTTC': 0, 'TTGA': 0, 'TTGT': 0, 'TTGG': 0, 'TTGC': 0, 'TTCA': 0, 'TTCT': 0, 'TTCG': 0, 'TTCC': 0, 'TGAA': 0, 'TGAT': 0, 'TGAG': 0, 'TGAC': 0, 'TGTA': 0, 'TGTT': 0, 'TGTG': 0, 'TGTC': 0, 'TGGA': 0, 'TGGT': 0, 'TGGG': 0, 'TGGC': 0, 'TGCA': 0, 'TGCT': 0, 'TGCG': 0, 'TGCC': 0, 'TCAA': 0, 'TCAT': 0, 'TCAG': 0, 'TCAC': 0, 'TCTA': 0, 'TCTT': 0, 'TCTG': 0, 'TCTC': 0, 'TCGA': 0, 'TCGT': 0, 'TCGG': 0, 'TCGC': 0, 'TCCA': 0, 'TCCT': 0, 'TCCG': 0, 'TCCC': 0, 'GAAA': 0, 'GAAT': 0, 'GAAG': 0, 'GAAC': 0, 'GATA': 0, 'GATT': 0, 'GATG': 0, 'GATC': 0, 'GAGA': 0, 'GAGT': 0, 'GAGG': 0, 'GAGC': 0, 'GACA': 0, 'GACT': 0, 'GACG': 0, 'GACC': 0, 'GTAA': 0, 'GTAT': 0, 'GTAG': 0, 'GTAC': 0, 'GTTA': 0, 'GTTT': 0, 'GTTG': 0, 'GTTC': 0, 'GTGA': 0, 'GTGT': 0, 'GTGG': 0, 'GTGC': 0, 'GTCA': 0, 'GTCT': 0, 'GTCG': 0, 'GTCC': 0, 'GGAA': 0, 'GGAT': 0, 'GGAG': 0, 'GGAC': 0, 'GGTA': 0, 'GGTT': 0, 'GGTG': 0, 'GGTC': 0, 'GGGA': 0, 'GGGT': 0, 'GGGG': 0, 'GGGC': 0, 'GGCA': 0, 'GGCT': 0, 'GGCG': 0, 'GGCC': 0, 'GCAA': 0, 'GCAT': 0, 'GCAG': 0, 'GCAC': 0, 'GCTA': 0, 'GCTT': 0, 'GCTG': 0, 'GCTC': 0, 'GCGA': 0, 'GCGT': 0, 'GCGG': 0, 'GCGC': 0, 'GCCA': 0, 'GCCT': 0, 'GCCG': 0, 'GCCC': 0, 'CAAA': 0, 'CAAT': 0, 'CAAG': 0, 'CAAC': 0, 'CATA': 0, 'CATT': 0, 'CATG': 0, 'CATC': 0, 'CAGA': 0, 'CAGT': 0, 'CAGG': 0, 'CAGC': 0, 'CACA': 0, 'CACT': 0, 'CACG': 0, 'CACC': 0, 'CTAA': 0, 'CTAT': 0, 'CTAG': 0, 'CTAC': 0, 'CTTA': 0, 'CTTT': 0, 'CTTG': 0, 'CTTC': 0, 'CTGA': 0, 'CTGT': 0, 'CTGG': 0, 'CTGC': 0, 'CTCA': 0, 'CTCT': 0, 'CTCG': 0, 'CTCC': 0, 'CGAA': 0, 'CGAT': 0, 'CGAG': 0, 'CGAC': 0, 'CGTA': 0, 'CGTT': 0, 'CGTG': 0, 'CGTC': 0, 'CGGA': 0, 'CGGT': 0, 'CGGG': 0, 'CGGC': 0, 'CGCA': 0, 'CGCT': 0, 'CGCG': 0, 'CGCC': 0, 'CCAA': 0, 'CCAT': 0, 'CCAG': 0, 'CCAC': 0, 'CCTA': 0, 'CCTT': 0, 'CCTG': 0, 'CCTC': 0, 'CCGA': 0, 'CCGT': 0, 'CCGG': 0, 'CCGC': 0, 'CCCA': 0, 'CCCT': 0, 'CCCG': 0, 'CCCC': 0}\n"
     ]
    }
   ],
   "source": [
    "##\n",
    "import itertools\n",
    "iterable = ['A', 'T', 'G', 'C']\n",
    "k = 4\n",
    "all_possible_patterns = {''.join(p): 0 for p in itertools.product(iterable, repeat=k)}\n",
    "print(all_possible_patterns)"
   ]
  },
  {
   "cell_type": "code",
   "execution_count": 78,
   "metadata": {
    "collapsed": false
   },
   "outputs": [
    {
     "name": "stdout",
     "output_type": "stream",
     "text": [
      "0 4\n",
      "1 2\n",
      "2 3\n"
     ]
    }
   ],
   "source": [
    "example_dict = {4:'a', 2:'b', 3:'c', 2:'d', 2:'dd', 4:'ff'}\n",
    "for ind, key in enumerate(example_dict):\n",
    "    print(ind, key)"
   ]
  },
  {
   "cell_type": "markdown",
   "metadata": {},
   "source": [
    "# Pattern to number"
   ]
  },
  {
   "cell_type": "code",
   "execution_count": 81,
   "metadata": {
    "collapsed": false
   },
   "outputs": [
    {
     "name": "stdout",
     "output_type": "stream",
     "text": [
      "{'AAA': 0, 'AAC': 1, 'AAG': 2, 'AAT': 3, 'ACA': 4, 'ACC': 5, 'ACG': 6, 'ACT': 7, 'AGA': 8, 'AGC': 9, 'AGG': 10, 'AGT': 11, 'ATA': 12, 'ATC': 13, 'ATG': 14, 'ATT': 15, 'CAA': 16, 'CAC': 17, 'CAG': 18, 'CAT': 19, 'CCA': 20, 'CCC': 21, 'CCG': 22, 'CCT': 23, 'CGA': 24, 'CGC': 25, 'CGG': 26, 'CGT': 27, 'CTA': 28, 'CTC': 29, 'CTG': 30, 'CTT': 31, 'GAA': 32, 'GAC': 33, 'GAG': 34, 'GAT': 35, 'GCA': 36, 'GCC': 37, 'GCG': 38, 'GCT': 39, 'GGA': 40, 'GGC': 41, 'GGG': 42, 'GGT': 43, 'GTA': 44, 'GTC': 45, 'GTG': 46, 'GTT': 47, 'TAA': 48, 'TAC': 49, 'TAG': 50, 'TAT': 51, 'TCA': 52, 'TCC': 53, 'TCG': 54, 'TCT': 55, 'TGA': 56, 'TGC': 57, 'TGG': 58, 'TGT': 59, 'TTA': 60, 'TTC': 61, 'TTG': 62, 'TTT': 63}\n"
     ]
    }
   ],
   "source": [
    "iterable = ['A', 'C', 'G', 'T'] ## eta sorted order a dite hobe..\n",
    "k = 3\n",
    "outputs = {''.join(p): ind for ind,p in enumerate(itertools.product(iterable, repeat=k))}\n",
    "print(outputs)"
   ]
  },
  {
   "cell_type": "code",
   "execution_count": 82,
   "metadata": {
    "collapsed": false
   },
   "outputs": [
    {
     "name": "stdout",
     "output_type": "stream",
     "text": [
      "53 97 "
     ]
    }
   ],
   "source": [
    "#skew\n",
    "inp = \"CCTATCGGTGGATTAGCATGTCCCTGTACGTTTCGCCGCGAACTAGTTCACACGGCTTGATGGCAAATGGTTTTTCCGGCGACCGTAATCGTCCACCGAG\"\n",
    "l = len(inp)\n",
    "ans = {}\n",
    "mn = 9999999999\n",
    "cnt = 0\n",
    "pos = 0\n",
    "for i in range(l):\n",
    "    if inp[i] == 'C':\n",
    "        cnt -= 1\n",
    "    elif inp[i] == 'G':\n",
    "        cnt += 1\n",
    "    ans[i] = cnt\n",
    "    if cnt < mn:\n",
    "        mn = cnt\n",
    "        \n",
    "for k,v in ans.items():\n",
    "    if v == mn:\n",
    "        print(k+1, end=\" \")"
   ]
  },
  {
   "cell_type": "code",
   "execution_count": 12,
   "metadata": {
    "collapsed": false
   },
   "outputs": [
    {
     "name": "stdout",
     "output_type": "stream",
     "text": [
      "6 7 26 27 78 "
     ]
    }
   ],
   "source": [
    "pat = \"ATTCTGGA\"\n",
    "inp = \"CGCCCGAATCCAGAACGCATTCCCATATTTCGGGACCACTGGCCTCCACGGTACGGACGTCAATCAAATGCCTAGCGGCTTGTGGTTTCTCCTACGCTCC\"\n",
    "d = 3\n",
    "l = len(inp)\n",
    "k = len(pat)\n",
    "\n",
    "def ck_mismatch(s1,s2,d):\n",
    "    l = len(s1)\n",
    "    cnt = 0\n",
    "    for i in range(l):\n",
    "        if s1[i] != s2[i]:\n",
    "            cnt += 1\n",
    "    if cnt <= d:\n",
    "        return True\n",
    "    else:\n",
    "        return False\n",
    "\n",
    "for i in range(l-k+1):\n",
    "    p = inp[i:i+k]\n",
    "    if ck_mismatch(p,pat,d):\n",
    "        print(i, end=\" \")\n",
    "    \n",
    "    "
   ]
  },
  {
   "cell_type": "code",
   "execution_count": 14,
   "metadata": {
    "collapsed": false
   },
   "outputs": [
    {
     "name": "stdout",
     "output_type": "stream",
     "text": [
      "ATGT GATG ATGC "
     ]
    }
   ],
   "source": [
    "inp = \"ACGTTGCATGTCGCATGATGCATGAGAGCT\"\n",
    "k = 4\n",
    "d = 1\n",
    "l = len(inp)\n",
    "output = {}\n",
    "mx = 0\n",
    "for i in range(l-k+1):\n",
    "    p = inp[i:i+k]\n",
    "    freq = 0\n",
    "    for j in range(l-k+1):\n",
    "        s = inp[j:j+k]\n",
    "        if ck_mismatch(p,s,d):\n",
    "            freq += 1\n",
    "    if freq > mx:\n",
    "        mx = freq\n",
    "    if p not in output.keys():\n",
    "        output[p] = freq\n",
    "l = len(output)\n",
    "for k,v in output.items():\n",
    "    if v == mx:\n",
    "        print(k, end=\" \")"
   ]
  },
  {
   "cell_type": "code",
   "execution_count": 15,
   "metadata": {
    "collapsed": true
   },
   "outputs": [],
   "source": [
    "def rev_comp(dna):\n",
    "    dna = dna[::-1]\n",
    "    ret = \"\"\n",
    "    l = len(dna)\n",
    "    for i in range(l):\n",
    "        if dna[i] == 'A':\n",
    "            ret += 'T'\n",
    "        elif dna[i] == 'T':\n",
    "            ret += 'A'\n",
    "        elif dna[i] == 'G':\n",
    "            ret += 'C'\n",
    "        elif dna[i] == 'C':\n",
    "            ret += 'G'\n",
    "    return ret\n"
   ]
  },
  {
   "cell_type": "code",
   "execution_count": 22,
   "metadata": {
    "collapsed": false
   },
   "outputs": [
    {
     "name": "stdout",
     "output_type": "stream",
     "text": [
      "ATGT ACAT "
     ]
    }
   ],
   "source": [
    "inp = \"ACGTTGCATGTCGCATGATGCATGAGAGCT\"\n",
    "k = 4\n",
    "d = 1\n",
    "l = len(inp)\n",
    "output = {}\n",
    "mx = 0\n",
    "for i in range(l-k+1):\n",
    "    p = inp[i:i+k]\n",
    "    freq = 0\n",
    "    for j in range(l-k+1):\n",
    "        s = inp[j:j+k]\n",
    "        if ck_mismatch(p,s,d):\n",
    "            freq += 1\n",
    "    p1 = rev_comp(p)\n",
    "    for j in range(l-k+1):\n",
    "        s = inp[j:j+k]\n",
    "        if ck_mismatch(p1,s,d):\n",
    "            freq += 1\n",
    "    if freq > mx:\n",
    "        mx = freq\n",
    "    if p not in output.keys():\n",
    "        output[p] = freq\n",
    "    if p1 not in output.keys():\n",
    "        output[p1] = freq\n",
    "l = len(output)\n",
    "for k,v in output.items():\n",
    "    if v == mx:\n",
    "        print(k, end=\" \")"
   ]
  },
  {
   "cell_type": "markdown",
   "metadata": {},
   "source": [
    "# Ch-4"
   ]
  },
  {
   "cell_type": "code",
   "execution_count": 6,
   "metadata": {
    "collapsed": false
   },
   "outputs": [
    {
     "name": "stdout",
     "output_type": "stream",
     "text": [
      "11\n"
     ]
    }
   ],
   "source": [
    "st = \"NQEL\"\n",
    "\n",
    "spectrum = [0, 99, 113, 114, 128, 227, 257, 299, 355, 356, 370, 371, 484]\n",
    "\n",
    "ss = st+st\n",
    "l = len(st)\n",
    "d = {}\n",
    "for i in range(1,len(st)):\n",
    "    for j in range(0,len(st)):\n",
    "        sss = \"\"\n",
    "        for k in range(j,j+i):\n",
    "            sss = sss+ss[k]\n",
    "        d[sss] = 1\n",
    "d[st] = 1\n",
    "lst = []\n",
    "lst.append(0)\n",
    "def val(a):\n",
    "    if(a=='G'):\n",
    "        return 57\n",
    "    if(a=='A'):\n",
    "        return 71\n",
    "    if(a=='S'):\n",
    "        return 87\n",
    "    if(a=='P'):\n",
    "        return 97\n",
    "    if(a=='V'):\n",
    "        return 99\n",
    "    if(a=='T'):\n",
    "        return 101\n",
    "    if(a=='C'):\n",
    "        return 103\n",
    "    if(a=='I'):\n",
    "        return 113\n",
    "    if(a=='L'):\n",
    "        return 113\n",
    "    if(a=='N'):\n",
    "        return 114\n",
    "    if(a=='D'):\n",
    "        return 115\n",
    "    if(a=='K'):\n",
    "        return 128\n",
    "    if(a=='Q'):\n",
    "        return 128\n",
    "    if(a=='E'):\n",
    "        return 129\n",
    "    if(a=='M'):\n",
    "        return 131\n",
    "    if(a=='H'):\n",
    "        return 137\n",
    "    if(a=='F'):\n",
    "        return 147\n",
    "    if(a=='R'):\n",
    "        return 156\n",
    "    if(a=='Y'):\n",
    "        return 163\n",
    "    if(a=='W'):\n",
    "        return 186\n",
    "    \n",
    "    \n",
    "def fun(x):\n",
    "    valu = 0\n",
    "    for i in x:\n",
    "        valu = valu + val(i)\n",
    "    return valu\n",
    "\n",
    "for x in d:\n",
    "    lst.append(fun(x))\n",
    "lst.sort()\n",
    "cnt = 0\n",
    "for i in spectrum:\n",
    "    for j in lst:\n",
    "        if i == j:\n",
    "            cnt+=1\n",
    "print(cnt)"
   ]
  },
  {
   "cell_type": "code",
   "execution_count": null,
   "metadata": {
    "collapsed": true
   },
   "outputs": [],
   "source": [
    "inp = ['LAST', 'ALST', 'TLLT', 'TQAS']\n",
    "spec = [0, 71, 87, 101, 113, 158, 184, 188, 259, 271, 372]\n",
    "N = 2\n",
    "mx_sc = 0\n",
    "ans = {}\n"
   ]
  },
  {
   "cell_type": "code",
   "execution_count": 5,
   "metadata": {
    "collapsed": false
   },
   "outputs": [
    {
     "name": "stdout",
     "output_type": "stream",
     "text": [
      "113-128-186 113-186-128 128-113-186 128-186-113 186-113-128 186-128-113 "
     ]
    }
   ],
   "source": [
    "st = \"LEQN\"\n",
    "spectrum = [0, 113, 128, 186, 241, 299, 314, 427]\n",
    "mp = {}\n",
    "for i in range(0,len(spectrum)):\n",
    "    mp[spectrum[i]] = 1\n",
    "v = len(spectrum)\n",
    "valu = 427\n",
    "ss = st+st\n",
    "d = {}\n",
    "def banaicyclic(st):\n",
    "    ss = st+st\n",
    "    l = {}\n",
    "    for i in range(1,len(st)):\n",
    "        for j in range(0,len(st)):\n",
    "            sss = \"\"\n",
    "            for k in range(j,j+i):\n",
    "                sss = sss+ss[k]\n",
    "            l[sss] = 1\n",
    "    l[st] = 1\n",
    "    return l\n",
    "\n",
    "def banailinear(st):\n",
    "    l = {}\n",
    "    for i in range(1,len(st)):\n",
    "        for j in range(0,len(st)-i+1):\n",
    "            sss = \"\"\n",
    "            for k in range(j,j+i):\n",
    "                sss = sss+st[k]\n",
    "            l[sss] = 1\n",
    "    l[st] = 1\n",
    "    return l\n",
    "\n",
    "def val(a):\n",
    "    if(a=='G'):\n",
    "        return 57\n",
    "    if(a=='A'):\n",
    "        return 71\n",
    "    if(a=='S'):\n",
    "        return 87\n",
    "    if(a=='P'):\n",
    "        return 97\n",
    "    if(a=='V'):\n",
    "        return 99\n",
    "    if(a=='T'):\n",
    "        return 101\n",
    "    if(a=='C'):\n",
    "        return 103\n",
    "    if(a=='I'):\n",
    "        return 113\n",
    "    if(a=='N'):\n",
    "        return 114\n",
    "    if(a=='D'):\n",
    "        return 115\n",
    "    if(a=='Q'):\n",
    "        return 128\n",
    "    if(a=='E'):\n",
    "        return 129\n",
    "    if(a=='M'):\n",
    "        return 131\n",
    "    if(a=='H'):\n",
    "        return 137\n",
    "    if(a=='F'):\n",
    "        return 147\n",
    "    if(a=='R'):\n",
    "        return 156\n",
    "    if(a=='Y'):\n",
    "        return 163\n",
    "    if(a=='W'):\n",
    "        return 186\n",
    "    \n",
    "    \n",
    "def fun(x):\n",
    "    valu = 0\n",
    "    for i in x:\n",
    "        valu = valu + val(i)\n",
    "    return valu\n",
    "ans = []\n",
    "amin = ['G','A','S','P','V','T','C','I','N','D','Q','E','M','H','F','R','Y','W']\n",
    "\n",
    "def sequence(valu):\n",
    "    peptides =[]\n",
    "    peptides.append(\"\")\n",
    "    while(1):\n",
    "        g = len(peptides)\n",
    "        if g == 0:\n",
    "            break\n",
    "        pep = []\n",
    "        for i in range(0,len(peptides)):\n",
    "            for j in range(0,len(amin)):\n",
    "                pep.append(peptides[i]+amin[j])\n",
    "        del peptides[:]\n",
    "        for i in range(0,len(pep)):\n",
    "            peptides.append(pep[i])\n",
    "        del pep[:]\n",
    "        for i in range(0,len(peptides)):\n",
    "            x = fun(peptides[i])\n",
    "            y = peptides[i]\n",
    "            if x == valu:\n",
    "                z = banaicyclic(y)\n",
    "                t = []\n",
    "                for j in z:\n",
    "                    t.append(fun(j))\n",
    "                t.append(0)\n",
    "                t.sort()\n",
    "                flag = 1\n",
    "                if(len(t) != len(spectrum)):\n",
    "                    flag = 0\n",
    "                if flag == 1:\n",
    "                    for k in range(0,len(t)):\n",
    "                        if t[k] != spectrum[k]:\n",
    "                            flag = 0\n",
    "                            break\n",
    "                if flag == 1:\n",
    "                    ans.append(y)\n",
    "            else:\n",
    "                z = banailinear(y)\n",
    "                t = []\n",
    "                for j in z:\n",
    "                    t.append(fun(j))\n",
    "                t.append(0)\n",
    "                t.sort()\n",
    "                flag = 1\n",
    "                for k in range(0, len(t)):\n",
    "                    if t[k] in mp:\n",
    "                        continue\n",
    "                    else:\n",
    "                        flag = 0\n",
    "                        break\n",
    "                if flag == 1:\n",
    "                    pep.append(y)\n",
    "        \n",
    "        del peptides[:]\n",
    "        for i in range(0,len(pep)):\n",
    "            peptides.append(pep[i])\n",
    "        del pep[:] \n",
    "sequence(valu)\n",
    "\n",
    "for i in range(0,len(ans)):\n",
    "    x = ans[i]\n",
    "    cnt = 1\n",
    "    ll = len(x)\n",
    "    for k in x:\n",
    "        print(val(k),end = \"\")\n",
    "        if(cnt==ll):\n",
    "            print(\" \",end = \"\")\n",
    "        else:\n",
    "            print(\"-\",end = \"\")\n",
    "        cnt = cnt+1\n",
    "    "
   ]
  }
 ],
 "metadata": {
  "kernelspec": {
   "display_name": "Python 3",
   "language": "python",
   "name": "python3"
  },
  "language_info": {
   "codemirror_mode": {
    "name": "ipython",
    "version": 3
   },
   "file_extension": ".py",
   "mimetype": "text/x-python",
   "name": "python",
   "nbconvert_exporter": "python",
   "pygments_lexer": "ipython3",
   "version": "3.6.0"
  }
 },
 "nbformat": 4,
 "nbformat_minor": 2
}
