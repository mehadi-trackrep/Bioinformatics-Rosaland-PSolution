{
 "cells": [
  {
   "cell_type": "code",
   "execution_count": 5,
   "metadata": {
    "collapsed": false
   },
   "outputs": [
    {
     "name": "stdout",
     "output_type": "stream",
     "text": [
      "ATCTCTCCGAACAGTCCCTCTGGCTTTGGCTATGCTCGGCATCCTCAAGTTAAATGGTCTGTTAACGAGGGGATCCACAGTTAACAGGATAGTCTTGTGAACATCCACCTGAATAAATGCCCAGAGTTGAATTGGACGCACCTAGCACTCGGGCGGACGCTGTAGCACACGGGACAGCCGGAGTTAGTCACCTAATGACGAATACAACTGGGGGACATTTCAGAGGCAGTCCTATTTAGTCCGGCTCGTTCCCGACAAGGCGTCGGATTACGTGAGATACAATCTGGCCCAGGCTGGGGCGTCTAGGCCCAATTAGCCTGACCCGGTGTTGTCGCTCTTAGAGGCACGTCCACACACAAGGGGCTCCGGGTTTATACTGCGATTTGAGCGGGTGTGGGGGCTGTGACGGCTAGACCCATCACGGATGAGCTAACATCTCAGAATCGCTATCGAATGATTAATTCTAGTTCTGGCGTTACCTCAAAGTTTGTACCGCGGGTGTTTTATCAAGACTCCGCTAGGCGGATCGGCACTTTTGCCATCGAGTCGCGATCGCCCTCGTAGGCGTTCCGTGTTAATGCTCAGTACCCAATACTCACATTTATAATCCGGACGCTTCCCACTCTCACGAGAGCCTACTAGCCGAGCAAAGTTTTGTAATAATTCGATGGGCTTCAAGTCGGCGAACTAAACGGTTCGCGGCAAGTCTATTGTCAGTGAGGGTATTCCGGAGCCACCAACCGGTACCCCAACACCTTCTTTTTGCCAGAATGACCACCTAATCACTTATAGATCTGTTGGACTGCGAAGAAGGTGCAAACTCCGACACTTGGCTTGGAGGAAGAACATGGCAACGCTCACCCGCAACTGATCACAAGCCTTTCCGGTTAGCCAAGCAAAGAGCAGATTTACGTACGGTTGCAAACCGGTATACAAC\n",
      "230   246   237   224\n"
     ]
    }
   ],
   "source": [
    "dnastr = input()\n",
    "l = len(dnastr)\n",
    "A = 0;C = 0;G = 0;T = 0\n",
    "for i in range(0,l):\n",
    "    if dnastr[i] == 'A':\n",
    "        A += 1\n",
    "    if dnastr[i] == 'C':\n",
    "        C += 1\n",
    "    if dnastr[i] == 'G':\n",
    "        G += 1\n",
    "    if dnastr[i] == 'T':\n",
    "        T += 1\n",
    "print (A,\" \",C,\" \",G,\" \",T)"
   ]
  }
 ],
 "metadata": {
  "kernelspec": {
   "display_name": "Python 3",
   "language": "python",
   "name": "python3"
  },
  "language_info": {
   "codemirror_mode": {
    "name": "ipython",
    "version": 3
   },
   "file_extension": ".py",
   "mimetype": "text/x-python",
   "name": "python",
   "nbconvert_exporter": "python",
   "pygments_lexer": "ipython3",
   "version": "3.6.0"
  }
 },
 "nbformat": 4,
 "nbformat_minor": 2
}
